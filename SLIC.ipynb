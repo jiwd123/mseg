{
 "cells": [
  {
   "cell_type": "code",
   "execution_count": null,
   "metadata": {},
   "outputs": [],
   "source": [
    "import os,tqdm,cv2,sys\n",
    "import numpy as np\n",
    "from PIL import Image\n",
    "import matplotlib.pyplot as plt\n",
    "from matplotlib.pyplot import MultipleLocator\n",
    "\n",
    "#取消像素限制\n",
    "Image.MAX_IMAGE_PIXELS = None"
   ]
  },
  {
   "attachments": {},
   "cell_type": "markdown",
   "metadata": {},
   "source": [
    "#### Remove the  taproot"
   ]
  },
  {
   "cell_type": "code",
   "execution_count": 1,
   "metadata": {},
   "outputs": [
    {
     "name": "stderr",
     "output_type": "stream",
     "text": [
      "100%|██████████| 41/41 [00:12<00:00,  3.21it/s]\n"
     ]
    }
   ],
   "source": [
    "\n",
    "import os,tqdm,cv2,sys\n",
    "import numpy as np\n",
    "from PIL import Image\n",
    "import matplotlib.pyplot as plt\n",
    "from matplotlib.pyplot import MultipleLocator\n",
    "\n",
    "#取消像素限制\n",
    "Image.MAX_IMAGE_PIXELS = None\n",
    "#滤波\n",
    "def blus(image_array):\n",
    "    img_blur=cv2.blur(image_array,(8,8))\n",
    "    return img_blur\n",
    "#阈值\n",
    "def threshold(image_array, lower, upper):\n",
    "    result = np.where(image_array>lower,255,0)\n",
    "    return result\n",
    "# Scharr算子实现梯度计算\n",
    "def Scharr_demo(image_array):\n",
    "    # x 方向梯度\n",
    "    image_grad_x = cv2.Scharr(image_array, cv2.CV_32F, 1, 0)\n",
    "    # 分别求绝对值并转化为8位的图像上，这样做方便显示\n",
    "    image_gradx = cv2.convertScaleAbs(image_grad_x) \n",
    "    return image_gradx\n",
    "#形态学操作\n",
    "def morphologyEx_demo(image_array):\n",
    "    kernel = cv2.getStructuringElement(cv2.MORPH_RECT,(3,40))#3,40\n",
    "    result  = cv2.morphologyEx(image_array,cv2.MORPH_OPEN,kernel,iterations=4)\n",
    "    return result\n",
    "#图片相减\n",
    "def math_demo(image1_array,image2_array,add_or_sub=\"add\"):\n",
    "    if add_or_sub==\"add\":\n",
    "        image = image1_array + image2_array\n",
    "    if add_or_sub==\"sub\":\n",
    "        image = image1_array - image2_array\n",
    "    return image\n",
    "\n",
    "# 分割主根操作(基于egnet)\n",
    "#大图分割结果\n",
    "image1_file = r\"D:\\31890\\Desktop\\EGNet_ResNet50\"\n",
    "save_file   = r\"D:\\31890\\Desktop\\EGNet_ResNet50_no\"\n",
    "if not os.path.exists(save_file):\n",
    "    os.makedirs(save_file)\n",
    "for name in tqdm.tqdm(os.listdir(image1_file)):\n",
    "    image1_path  = os.path.join(image1_file,name)\n",
    "    # image2_path  = os.path.join(image2_file,name)\n",
    "    save_path = os.path.join(save_file,name)\n",
    "    image = cv2.imread(image1_path,cv2.IMREAD_GRAYSCALE)\n",
    "    binary = threshold(image, 35, 255)\n",
    "    open_image = morphologyEx_demo(image)\n",
    "    cv2.imwrite(os.path.join(save_file,'1_'+name),open_image)\n",
    "    y_grady = Scharr_demo(open_image)\n",
    "    cv2.imwrite(os.path.join(save_file,'2_'+name),y_grady)\n",
    "    image = math_demo(open_image,y_grady,'add')\n",
    "    cv2.imwrite(os.path.join(save_file,'3_'+name),image)\n",
    "    blus_image = blus(image)\n",
    "    cv2.imwrite(os.path.join(save_file,'4_'+name),blus_image)\n",
    "    result = threshold(blus_image, 35, 255)\n",
    "    cv2.imwrite(os.path.join(save_file,'5_'+name),result)\n",
    "    result = math_demo(binary,result,'sub')\n",
    "    cv2.imwrite(os.path.join(save_file,'6_'+name),result)\n",
    "    cv2.imwrite(save_path,result)"
   ]
  },
  {
   "cell_type": "markdown",
   "metadata": {},
   "source": [
    "#### SLIC"
   ]
  },
  {
   "cell_type": "code",
   "execution_count": null,
   "metadata": {
    "vscode": {
     "languageId": "plaintext"
    }
   },
   "outputs": [],
   "source": [
    "import cv2,os,tqdm\n",
    "import numpy as np\n",
    "from PIL import Image\n",
    "\n",
    "def shuailao_slic(image_array,mask_array):\n",
    "    #初始化slic项，超像素平均尺寸20（默认为10），平滑因子20\n",
    "    slic = cv2.ximgproc.createSuperpixelSLIC(image_array,region_size=20,ruler = 20)\n",
    "    slic.iterate(50)                                    #迭代次数，越大效果越好\n",
    "\n",
    "    label_slic = (slic.getLabels() +1).astype(np.uint8)                 #获取超像素标签矩阵\n",
    "    label_slic = cv2.bitwise_and(label_slic, label_slic, mask=mask_array.astype(np.uint8)).astype(np.uint8)\n",
    "\n",
    "    class_num = np.unique(label_slic,return_index=False,return_inverse=False)\n",
    "    for i in range(len(np.unique(label_slic,return_index=False,return_inverse=False))):\n",
    "        label_slic[np.where(label_slic==class_num[i])] = i  #重新排列分类矩阵\n",
    "\n",
    "    image_gray = cv2.cvtColor(image_array,cv2.COLOR_BGR2GRAY)\n",
    "    image_gray = cv2.bitwise_and(image_gray, image_gray, mask=mask_array).astype(np.uint8)\n",
    "\n",
    "    image_copy = image_gray.copy()\n",
    "\n",
    "    # a1,b1 = np.unique(image_gray,return_counts=True)\n",
    "    # print(a1,b1)\n",
    "\n",
    "    for i in range(len(class_num)):\n",
    "        a,b = np.unique(image_gray[label_slic==i],return_counts=True)\n",
    "        # print(a,b)\n",
    "        # print(a[np.argmax(b)])\n",
    "        if  a[np.argmax(b)]==0:\n",
    "            image_copy[np.where(label_slic==i)] = a[np.argmax(b)]\n",
    "            # a2,b2 = np.unique(image_copy[label_slic==i],return_counts=True)\n",
    "            # print(a2,b2)\n",
    "        elif a[np.argmax(b)]==141:\n",
    "            image_copy[np.where(label_slic==i)] = 1\n",
    "        elif a[np.argmax(b)]==76:\n",
    "            image_copy[np.where(label_slic==i)] = 2\n",
    "        else:\n",
    "            image_copy[np.where(label_slic==i)] = 3\n",
    "            \n",
    "\n",
    "    image_copy = Image.fromarray(image_copy)\n",
    "    image_copy.convert('L')\n",
    "    #调色板\n",
    "    palette = [0, 0, 0,0, 255, 0, 255, 0, 0,255,255,255]\n",
    "    # palette = [0, 0, 0, 128, 0, 0,0, 128, 0, 128, 128, 0,\n",
    "    #         0, 0, 128,]\n",
    "            # 128, 0, 128, 0, 128, 128, 128, 128, 128,\n",
    "            # 64, 0, 0\n",
    "    #着色\n",
    "    image_copy.putpalette(palette)\n",
    "\n",
    "    return image_copy\n",
    "\n",
    "def main(i,m,o):\n",
    "    if not os.path.exists(o):\n",
    "        os.makedirs(o)\n",
    "    for name in tqdm.tqdm(os.listdir(i)):\n",
    "        name  = name.split('.')[0]\n",
    "        image_array = cv2.imread(os.path.join(i,name+'.png'))\n",
    "        mask_array  = cv2.imread(os.path.join(m,name+'.png'),cv2.IMREAD_GRAYSCALE)\n",
    "        image_rebuild = shuailao_slic(image_array,mask_array)\n",
    "        image_rebuild.save(os.path.join(o,name+'.png'))\n",
    "\n",
    "i = r\"D:\\31890\\Desktop\\tranformer\\senescence\\shuailao\"\n",
    "m = r\"D:\\31890\\Desktop\\tranformer\\senescence\\mask_heidi\"\n",
    "o = r\"D:\\31890\\Desktop\\tranformer\\senescence\\shuailao_re2\"\n",
    "main(i,m,o)\n"
   ]
  }
 ],
 "metadata": {
  "kernelspec": {
   "display_name": "base",
   "language": "python",
   "name": "python3"
  },
  "language_info": {
   "codemirror_mode": {
    "name": "ipython",
    "version": 3
   },
   "file_extension": ".py",
   "mimetype": "text/x-python",
   "name": "python",
   "nbconvert_exporter": "python",
   "pygments_lexer": "ipython3",
   "version": "3.11.3"
  },
  "orig_nbformat": 4,
  "vscode": {
   "interpreter": {
    "hash": "b72bce0f774da0affb1409740e09e5f72c8a559958be0d948f9a4e26f76c5539"
   }
  }
 },
 "nbformat": 4,
 "nbformat_minor": 2
}
